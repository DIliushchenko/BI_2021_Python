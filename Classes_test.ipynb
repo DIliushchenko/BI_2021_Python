{
 "cells": [
  {
   "cell_type": "code",
   "execution_count": 449,
   "id": "1f71fa4a",
   "metadata": {},
   "outputs": [],
   "source": [
    "from Bio import SeqIO\n",
    "import seaborn as sns\n",
    "import matplotlib.pyplot as plt\n",
    "from Bio.SeqUtils import GC"
   ]
  },
  {
   "cell_type": "code",
   "execution_count": 511,
   "id": "d3f2f96c",
   "metadata": {},
   "outputs": [],
   "source": [
    "'''\n",
    "First task - make class  of some subject with constructor and two methods \n",
    "'''\n",
    "# class - student that have age, energy ... \n",
    "class Student:\n",
    "    '''\n",
    "    age - age of student\n",
    "    energy - in percent, how he fells\n",
    "    weight - kg\n",
    "    height - cm\n",
    "    energetic - does the student drink coffee or energetic\n",
    "    '''\n",
    "    def __init__(self, age, energy, weight, height, energetic = False):\n",
    "        self.energy = energy\n",
    "        self.energetic = energetic\n",
    "        self.weight = weight\n",
    "        self.height = height\n",
    "        self.age = age\n",
    "        \n",
    "        \n",
    "    def pass_exam(self):\n",
    "        # I found new formula for student, that can predict pass of the exam by student\n",
    "        # Returs False or True\n",
    "        ph = (1/self.age) * self.energy\n",
    "        if self.energetic:\n",
    "            ph = ph * 1.2\n",
    "        \n",
    "        return ph > 5.3\n",
    "    \n",
    "    def bmi(self):\n",
    "        # Calculate BMI for student\n",
    "        return self.weight/self.height"
   ]
  },
  {
   "cell_type": "code",
   "execution_count": 512,
   "id": "7728f63f",
   "metadata": {},
   "outputs": [
    {
     "data": {
      "text/plain": [
       "2.25"
      ]
     },
     "execution_count": 512,
     "metadata": {},
     "output_type": "execute_result"
    }
   ],
   "source": [
    "test_student = Student(30, 80, 180, 80)\n",
    "test_student.pass_exam()\n",
    "test_student.bmi()"
   ]
  },
  {
   "cell_type": "code",
   "execution_count": 110,
   "id": "513d60fb",
   "metadata": {},
   "outputs": [],
   "source": [
    "'''\n",
    "Second task - class that takes RNA seq, and have several methods: 1. Return aminoacids that trs from RNA\n",
    "2. Reverse transcription from RNA to DNA\n",
    "'''\n",
    "# STANDART IUPAC CODE\n",
    "translate = {\"UUU\" : \"F\", \"CUU\" : \"L\", \"AUU\" : \"I\", \"GUU\" : \"V\",\n",
    "           \"UUC\" : \"F\", \"CUC\" : \"L\", \"AUC\" : \"I\", \"GUC\" : \"V\",\n",
    "           \"UUA\" : \"L\", \"CUA\" : \"L\", \"AUA\" : \"I\", \"GUA\" : \"V\",\n",
    "           \"UUG\" : \"L\", \"CUG\" : \"L\", \"AUG\" : \"M\", \"GUG\" : \"V\",\n",
    "           \"UCU\" : \"S\", \"CCU\" : \"P\", \"ACU\" : \"T\", \"GCU\" : \"A\",\n",
    "           \"UCC\" : \"S\", \"CCC\" : \"P\", \"ACC\" : \"T\", \"GCC\" : \"A\",\n",
    "           \"UCA\" : \"S\", \"CCA\" : \"P\", \"ACA\" : \"T\", \"GCA\" : \"A\",\n",
    "           \"UCG\" : \"S\", \"CCG\" : \"P\", \"ACG\" : \"T\", \"GCG\" : \"A\",\n",
    "           \"UAU\" : \"Y\", \"CAU\" : \"H\", \"AAU\" : \"N\", \"GAU\" : \"D\",\n",
    "           \"UAC\" : \"Y\", \"CAC\" : \"H\", \"AAC\" : \"N\", \"GAC\" : \"D\",\n",
    "           \"UAA\" : \"STOP\", \"CAA\" : \"Q\", \"AAA\" : \"K\", \"GAA\" : \"E\",\n",
    "           \"UAG\" : \"STOP\", \"CAG\" : \"Q\", \"AAG\" : \"K\", \"GAG\" : \"E\",\n",
    "           \"UGU\" : \"C\", \"CGU\" : \"R\", \"AGU\" : \"S\", \"GGU\" : \"G\",\n",
    "           \"UGC\" : \"C\", \"CGC\" : \"R\", \"AGC\" : \"S\", \"GGC\" : \"G\",\n",
    "           \"UGA\" : \"STOP\", \"CGA\" : \"R\", \"AGA\" : \"R\", \"GGA\" : \"G\",\n",
    "           \"UGG\" : \"W\", \"CGG\" : \"R\", \"AGG\" : \"R\", \"GGG\" : \"G\" \n",
    "           }\n",
    "\n",
    "\n",
    "class RNA(Seq):\n",
    "    \n",
    "    def __init__(self, seq = ''):\n",
    "        self.seq = seq.upper()\n",
    "        \n",
    "    def translation(self):\n",
    "    # wasn't mentioned which strain, aut = 5' - 3'\n",
    "        protein = []\n",
    "        for codon_id in range(0, len(self.seq),3):\n",
    "            codon = self.seq[codon_id:codon_id+3]\n",
    "            if codon not in translate:\n",
    "                print('Given not standart RNA')\n",
    "                return ''\n",
    "            elif translate[codon] == 'STOP':\n",
    "                break\n",
    "            else:\n",
    "                protein.append(translate[codon])\n",
    "        return ''.join(protein)\n",
    "    \n",
    "    def reverse_transcription(self):\n",
    "        dna = []\n",
    "        for nuc in self.seq:\n",
    "            if nuc == 'A':\n",
    "                dna.append('T')\n",
    "            elif nuc == 'U':\n",
    "                dna.append('A')\n",
    "            elif nuc == 'G':\n",
    "                dna.append('C')\n",
    "            elif nuc == 'C':\n",
    "                dna.append('G')\n",
    "        return ''.join(dna)\n",
    "        \n",
    "    def complement(self):\n",
    "        compl = []\n",
    "        for nuc in self.seq:\n",
    "            if nuc == 'A':\n",
    "                compl.append('U')\n",
    "            elif nuc == 'U':\n",
    "                compl.append('A')\n",
    "            elif nuc == 'G':\n",
    "                compl.append('C')\n",
    "            elif nuc == 'C':\n",
    "                compl.append('G')\n",
    "        return ''.join(compl)\n",
    "        "
   ]
  },
  {
   "cell_type": "code",
   "execution_count": 424,
   "id": "9080c018",
   "metadata": {},
   "outputs": [
    {
     "name": "stdout",
     "output_type": "stream",
     "text": [
      "AAAGGAGGCATAGTAGTAGTATGATGATTTATT\n",
      "FPPYHHHTTK\n",
      "AAAGGAGGCAUAGUAGUAGUAUGAUGAUUUAUU\n"
     ]
    }
   ],
   "source": [
    "# test class RNA\n",
    "rna = RNA('UUUCCUCCGUAUCAUCAUCAUACUACUAAAUAA')\n",
    "print(rna.reverse_transcription())\n",
    "print(rna.translation())\n",
    "print(rna.complement())"
   ]
  },
  {
   "cell_type": "code",
   "execution_count": 425,
   "id": "c8c51857",
   "metadata": {},
   "outputs": [],
   "source": [
    "'''\n",
    "Third task make class from set that contains only positive num and can add only positive num\n",
    "'''\n",
    "class Positive(set):\n",
    "    def __init__(self, in_set):\n",
    "        for elem in in_set:\n",
    "            self.add(elem)\n",
    "    def add(self, value):\n",
    "        if value > 0:\n",
    "            super().add(value)"
   ]
  },
  {
   "cell_type": "code",
   "execution_count": 249,
   "id": "c7e26c34",
   "metadata": {},
   "outputs": [
    {
     "name": "stdout",
     "output_type": "stream",
     "text": [
      "Positive({1, 2, 3, 4})\n",
      "Positive({1, 2, 3, 4})\n",
      "Positive({1, 2, 3, 4, 8})\n"
     ]
    }
   ],
   "source": [
    "# TESTING\n",
    "a = Positive({1,2,3,4, -5,-8})\n",
    "print(a)\n",
    "a.add(-5)\n",
    "print(a)\n",
    "a.add(8)\n",
    "print(a)"
   ]
  },
  {
   "cell_type": "code",
   "execution_count": 497,
   "id": "9f97a9f2",
   "metadata": {},
   "outputs": [],
   "source": [
    "'''\n",
    "Class - input: path to fasta, methods: 1. Num of seq in fasta 2. Plot hist distr of length 3. GC content\n",
    "4. Freq hist of 4-mer 5. Переопределение метода для вывода информации при принте \n",
    "6. Выполнение всех реализованных методов по подсчёту метрик 7. Additional metrics\n",
    "'''\n",
    "class Fasta_analyse:\n",
    "    \n",
    "    def __init__(self, path = ''):\n",
    "        self.path = path\n",
    "    \n",
    "    def destribution_length_plot(self):\n",
    "        records_len = [len(rec) for rec in SeqIO.parse(self.path, \"fasta\")]\n",
    "        len_plot = sns.histplot(records_len, color = 'gold')\n",
    "        len_plot.set(xlabel='Length Destribution', title = 'Destribution of length along fasta file')\n",
    "        plt.show()\n",
    "        \n",
    "    def get_num_of_seq(self):\n",
    "        num_of_seq = 0\n",
    "        with open(self.path, 'r') as fasta:\n",
    "            for line in fasta:\n",
    "                if line.startswith('>'):\n",
    "                    num_of_seq +=1\n",
    "        return num_of_seq\n",
    "    \n",
    "    def GC_content(self):\n",
    "        \n",
    "        gc_cont = [GC(rec.seq) for rec in SeqIO.parse(self.path, \"fasta\")]\n",
    "        \n",
    "        return sum(gc_cont) / len(gc_cont)\n",
    "    \n",
    "    def count_k_mer(self):\n",
    "        k_mers = {}\n",
    "        with open(self.path,'r') as fasta:\n",
    "            for f_r in SeqIO.parse(fasta, 'fasta'):\n",
    "                len_seq = len(f_r.seq)\n",
    "                for i in range(len_seq - 4 + 1):\n",
    "                    kmer = f_r.seq.__str__()[i: i + 4]\n",
    "                    try:\n",
    "                        k_mers[kmer] += 1\n",
    "                    except KeyError:\n",
    "                        k_mers[kmer] = 1\n",
    "        \n",
    "        plt.figure(figsize=(10,10))\n",
    "        sns.barplot(x=list(k_mers.values()), y=list(k_mers.keys()), color='#9e9fdd')\n",
    "        plt.yticks(fontsize=4)\n",
    "        plt.show()\n",
    "    \n",
    "    def __repr__(self):\n",
    "        \n",
    "        return self.path\n",
    "        \n",
    "    def metrics_all(self):\n",
    "        \n",
    "        return self.GC_content(), self.get_num_of_seq()\n",
    "    "
   ]
  },
  {
   "cell_type": "code",
   "execution_count": 498,
   "id": "dd7abcb7",
   "metadata": {
    "scrolled": false
   },
   "outputs": [
    {
     "data": {
      "image/png": "[encoded data removed]",
      "text/plain": [
       "<Figure size 432x288 with 1 Axes>"
      ]
     },
     "metadata": {
      "needs_background": "light"
     },
     "output_type": "display_data"
    },
    {
     "name": "stdout",
     "output_type": "stream",
     "text": [
      "326\n",
      "42.13430506945594\n"
     ]
    },
    {
     "data": {
      "image/png": "[encoded data removed]",
      "text/plain": [
       "<Figure size 720x720 with 1 Axes>"
      ]
     },
     "metadata": {
      "needs_background": "light"
     },
     "output_type": "display_data"
    },
    {
     "name": "stdout",
     "output_type": "stream",
     "text": [
      "None\n",
      "(42.13430506945594, 326)\n"
     ]
    }
   ],
   "source": [
    "ff = Fasta_analyse('ATP6.fasta')      \n",
    "ff.destribution_length_plot()\n",
    "print(ff.get_num_of_seq())\n",
    "print(ff.GC_content())\n",
    "print(ff.count_k_mer())\n",
    "print(ff.metrics_all())"
   ]
  }
 ],
 "metadata": {
  "kernelspec": {
   "display_name": "Python 3 (ipykernel)",
   "language": "python",
   "name": "python3"
  },
  "language_info": {
   "codemirror_mode": {
    "name": "ipython",
    "version": 3
   },
   "file_extension": ".py",
   "mimetype": "text/x-python",
   "name": "python",
   "nbconvert_exporter": "python",
   "pygments_lexer": "ipython3",
   "version": "3.9.10"
  }
 },
 "nbformat": 4,
 "nbformat_minor": 5
}
