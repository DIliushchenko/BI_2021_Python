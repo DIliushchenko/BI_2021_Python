{
 "cells": [
  {
   "cell_type": "code",
   "execution_count": 1,
   "id": "06b5ddd2",
   "metadata": {},
   "outputs": [],
   "source": [
    "import time\n",
    "import random"
   ]
  },
  {
   "cell_type": "markdown",
   "id": "89c24c7b",
   "metadata": {},
   "source": [
    "### Task 1"
   ]
  },
  {
   "cell_type": "code",
   "execution_count": 2,
   "id": "b862d305",
   "metadata": {},
   "outputs": [],
   "source": [
    "def measure_time(func):\n",
    "    def inner_function(*args, **kwargs):\n",
    "        start = time.time()\n",
    "        result = func(*args, **kwargs)\n",
    "        end = time.time()\n",
    "        \n",
    "        return end - start\n",
    "    \n",
    "    return inner_function"
   ]
  },
  {
   "cell_type": "code",
   "execution_count": 3,
   "id": "ef87bfe9",
   "metadata": {},
   "outputs": [],
   "source": [
    "@measure_time\n",
    "def some_function(a, b, c, d, e=0, f=2, g='3'):\n",
    "    time.sleep(a)\n",
    "    time.sleep(b)\n",
    "    time.sleep(c)\n",
    "    time.sleep(d)\n",
    "    time.sleep(e)\n",
    "    time.sleep(f)\n",
    "    return g\n",
    "\n"
   ]
  },
  {
   "cell_type": "code",
   "execution_count": 4,
   "id": "f6eab666",
   "metadata": {
    "scrolled": true
   },
   "outputs": [
    {
     "data": {
      "text/plain": [
       "18.025762796401978"
      ]
     },
     "execution_count": 4,
     "metadata": {},
     "output_type": "execute_result"
    }
   ],
   "source": [
    "some_function(1, 2, 3, 4, e=5, f=3, g='1234')"
   ]
  },
  {
   "cell_type": "markdown",
   "id": "0e58c4fe",
   "metadata": {},
   "source": [
    "### Task 2"
   ]
  },
  {
   "cell_type": "markdown",
   "id": "5684c940",
   "metadata": {},
   "source": [
    "Для начала напишем функцию, которая превращает элементы словаря в формат `key1=val1, key2=val2`"
   ]
  },
  {
   "cell_type": "code",
   "execution_count": 6,
   "id": "5137a9e3",
   "metadata": {},
   "outputs": [],
   "source": [
    "def from_dict_to_eq(dct):\n",
    "    kwargs_list = [f'{obj}={dct[obj]}' for obj in dct]\n",
    "    return ', '.join(kwargs_list)"
   ]
  },
  {
   "cell_type": "markdown",
   "id": "c58820ff",
   "metadata": {},
   "source": [
    "Теперь сам декоратор"
   ]
  },
  {
   "cell_type": "code",
   "execution_count": 7,
   "id": "45b6159f",
   "metadata": {},
   "outputs": [],
   "source": [
    "def function_loggin(func):\n",
    "    def inner_function(*args, **kwargs):\n",
    "        res = func(*args, **kwargs)\n",
    "        if args and kwargs:\n",
    "            print(f'Function {func.__name__} is called with positional arguments: {args}' \\\n",
    "                  f' and keyword arguments: {from_dict_to_eq(kwargs)}')\n",
    "        elif args and not kwargs:\n",
    "            print(f'Function {func.__name__} is called with positional arguments: {args}')\n",
    "        elif kwargs and not args:\n",
    "            print(f'Function {func.__name__} is called with keyword arguments: {from_dict_to_eq(kwargs)}')\n",
    "        else:\n",
    "            print(f'Function {func.__name__} is called with no arguments')\n",
    "            \n",
    "        print(f'Function {func.__name__} returns output of type {type(res).__name__}')\n",
    "        \n",
    "        return res\n",
    "    \n",
    "    return inner_function"
   ]
  },
  {
   "cell_type": "code",
   "execution_count": 8,
   "id": "727c80aa",
   "metadata": {},
   "outputs": [
    {
     "name": "stdout",
     "output_type": "stream",
     "text": [
      "Function fun1 is called with no arguments\n",
      "Function fun1 returns output of type set\n",
      "set()\n",
      "\n",
      "Function fun2 is called with positional arguments: (1, 2, 3)\n",
      "Function fun2 returns output of type float\n",
      "1.0\n",
      "\n",
      "Function fun3 is called with positional arguments: (1, 2) and keyword arguments: c=3, d=2\n",
      "Function fun3 returns output of type list\n",
      "[7, 7]\n",
      "\n",
      "Function fun4 is called with keyword arguments: a=None, b=-inf\n",
      "Function fun4 returns output of type dict\n",
      "{None: -inf}\n",
      "\n"
     ]
    }
   ],
   "source": [
    "@function_loggin\n",
    "def fun1():\n",
    "    return set()\n",
    "\n",
    "\n",
    "@function_loggin\n",
    "def fun2(a, b, c):\n",
    "    return (a + b) / c\n",
    "\n",
    "\n",
    "@function_loggin\n",
    "def fun3(a, b, c , d=4):\n",
    "    return [a + b * c] * d\n",
    "\n",
    "\n",
    "@function_loggin\n",
    "def fun4(a=None, b=None):\n",
    "    return {a: b}\n",
    "\n",
    "\n",
    "print(fun1(), end='\\n\\n')\n",
    "print(fun2(1, 2, 3), end='\\n\\n')\n",
    "print(fun3(1, 2, c=3, d=2), end='\\n\\n')\n",
    "print(fun4(a=None, b=float('-inf')), end='\\n\\n')"
   ]
  },
  {
   "cell_type": "markdown",
   "id": "16e04172",
   "metadata": {},
   "source": [
    "### Task 3 "
   ]
  },
  {
   "cell_type": "code",
   "execution_count": 9,
   "id": "bfaded5b",
   "metadata": {},
   "outputs": [],
   "source": [
    "def russian_roulette_decorator(probability, return_value):\n",
    "    def decorator(func):\n",
    "        def inner_function(*args, **kwargs):\n",
    "            decision = random.choices([0, 1], weights=(probability, 1-probability))[0]\n",
    "            if decision == 0:\n",
    "                return return_value\n",
    "            elif decision == 1:\n",
    "                return func(*args, **kwargs)\n",
    "\n",
    "        return inner_function\n",
    "\n",
    "    return decorator"
   ]
  },
  {
   "cell_type": "code",
   "execution_count": 22,
   "id": "acf0a390",
   "metadata": {},
   "outputs": [
    {
     "name": "stdout",
     "output_type": "stream",
     "text": [
      "11\n",
      "11\n",
      "11\n",
      "11\n",
      "11\n",
      "Pay money to return your function\n",
      "11\n",
      "Pay money to return your function\n",
      "11\n",
      "11\n"
     ]
    }
   ],
   "source": [
    "@russian_roulette_decorator(probability=0.2, return_value='Pay money to return your function')\n",
    "def get_sum(a, b):\n",
    "    return a + b\n",
    "\n",
    "\n",
    "for _ in range(10):\n",
    "    print(get_sum(5,6))\n"
   ]
  }
 ],
 "metadata": {
  "kernelspec": {
   "display_name": "Python 3 (ipykernel)",
   "language": "python",
   "name": "python3"
  },
  "language_info": {
   "codemirror_mode": {
    "name": "ipython",
    "version": 3
   },
   "file_extension": ".py",
   "mimetype": "text/x-python",
   "name": "python",
   "nbconvert_exporter": "python",
   "pygments_lexer": "ipython3",
   "version": "3.10.2"
  }
 },
 "nbformat": 4,
 "nbformat_minor": 5
}
