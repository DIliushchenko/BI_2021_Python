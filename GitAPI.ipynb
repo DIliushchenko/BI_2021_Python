{
 "cells": [
  {
   "cell_type": "code",
   "execution_count": 889,
   "id": "25a27f41",
   "metadata": {},
   "outputs": [],
   "source": [
    "from bs4 import BeautifulSoup\n",
    "import requests\n",
    "import re\n",
    "import os"
   ]
  },
  {
   "cell_type": "code",
   "execution_count": 727,
   "id": "35fab369",
   "metadata": {},
   "outputs": [],
   "source": [
    "def save_content(resp, filename):\n",
    "    with open (filename, 'wb') as file:\n",
    "        file.write(resp.content)\n",
    "    "
   ]
  },
  {
   "cell_type": "code",
   "execution_count": 776,
   "id": "7b26705c",
   "metadata": {},
   "outputs": [],
   "source": [
    "def get_user_info(username):\n",
    "    \n",
    "    #Get name, organisation, followers, place and number of public repositories from github by name\n",
    "    \n",
    "    full_path = 'https://github.com/' + username\n",
    "    req = requests.get(full_path)\n",
    "    get_closer = BeautifulSoup(req.content)\n",
    "    full_name = get_closer.find('span',\n",
    "                               class_=\"p-name vcard-fullname d-block overflow-hidden\").text.strip()\n",
    "    org = get_closer.find('span', class_=\"p-org\").text\n",
    "    place = get_closer.find('span', class_=\"p-label\").text\n",
    "    followers = get_closer.find('span', class_=\"text-bold color-fg-default\").text\n",
    "    repo_num = get_closer.find('span', class_=\"Counter\").text\n",
    "    res = {'Name':full_name,\n",
    "          'Organisation':org,\n",
    "          'Place':place,\n",
    "          'Followers':followers,\n",
    "          'Repositories':repo_num}\n",
    "    return res"
   ]
  },
  {
   "cell_type": "code",
   "execution_count": 783,
   "id": "dfef60f3",
   "metadata": {},
   "outputs": [
    {
     "data": {
      "text/plain": [
       "{'Name': 'Alya Mikhailova',\n",
       " 'Organisation': 'Center For Mitochondrial Functional Genomics IKBFU',\n",
       " 'Place': 'Kaliningrad',\n",
       " 'Followers': '9',\n",
       " 'Repositories': '1'}"
      ]
     },
     "execution_count": 783,
     "metadata": {},
     "output_type": "execute_result"
    }
   ],
   "source": [
    "#Check it!\n",
    "get_user_info('polarsong')"
   ]
  },
  {
   "cell_type": "code",
   "execution_count": 837,
   "id": "e615c70f",
   "metadata": {},
   "outputs": [],
   "source": [
    "def get_user_repositories(username):\n",
    "    #Get all public repos for user into list of dicts\n",
    "    \n",
    "    full_path = 'https://github.com/' + username\n",
    "    req = requests.get(full_path, params = {'tab':'repositories'})\n",
    "    get_closer = BeautifulSoup(req.content)\n",
    "    \n",
    "    res_list = []\n",
    "    all_repo = get_closer.find_all('a', itemprop=\"name codeRepository\")\n",
    "    all_progleng = get_closer.find_all('span', itemprop=\"programmingLanguage\")\n",
    "    \n",
    "    for repo,leng in zip(all_repo,all_progleng):\n",
    "        cur_dict = {'username':username,\n",
    "                   'Repository':repo.text.strip(),\n",
    "                   'Language':leng.text}\n",
    "        res_list.append(cur_dict)\n",
    "        \n",
    "    return res_list"
   ]
  },
  {
   "cell_type": "code",
   "execution_count": 839,
   "id": "a858f674",
   "metadata": {},
   "outputs": [
    {
     "data": {
      "text/plain": [
       "[{'username': 'DIliushchenko',\n",
       "  'Repository': 'BI_2021_Python',\n",
       "  'Language': 'Jupyter Notebook'},\n",
       " {'username': 'DIliushchenko',\n",
       "  'Repository': 'BI_ML_2021',\n",
       "  'Language': 'Jupyter Notebook'},\n",
       " {'username': 'DIliushchenko', 'Repository': 'Main_Scripts', 'Language': 'R'},\n",
       " {'username': 'DIliushchenko',\n",
       "  'Repository': 'BI_Stat_2021',\n",
       "  'Language': 'HTML'},\n",
       " {'username': 'DIliushchenko',\n",
       "  'Repository': 'Runs-of-Homozygosity',\n",
       "  'Language': 'R'}]"
      ]
     },
     "execution_count": 839,
     "metadata": {},
     "output_type": "execute_result"
    }
   ],
   "source": [
    "#Check 2\n",
    "get_user_repositories('DIliushchenko')"
   ]
  },
  {
   "cell_type": "code",
   "execution_count": 899,
   "id": "df86fb48",
   "metadata": {},
   "outputs": [],
   "source": [
    "def list_repository_contents(username, repository, repository_path = ''):\n",
    "    \n",
    "    '''\n",
    "    Function to get all objects from repository path\n",
    "    Use repository path with form '/tree/branch/path_to_folder' to get correct result\n",
    "    '''\n",
    "    \n",
    "    full_path = 'https://github.com/' + username + '/' + repository + repository_path\n",
    "    req = requests.get(full_path)\n",
    "    ser_files = BeautifulSoup(req.content)\n",
    "    result = []\n",
    "    for obj in ser_files.find_all('a', class_=\"js-navigation-open Link--primary\"):\n",
    "        result.append(obj.text)\n",
    "    return result"
   ]
  },
  {
   "cell_type": "code",
   "execution_count": 874,
   "id": "c2956491",
   "metadata": {},
   "outputs": [
    {
     "data": {
      "text/plain": [
       "['ROH_ansar',\n",
       " 'RecombMap',\n",
       " 'PleaseDeleteme',\n",
       " 'TestWind.txt',\n",
       " 'gencode.v25.annotation.gtf.Genes.Shet.pLI.FIS.RVIS.GHIS.KnKs.GC.BrainSpecificRanking.Branch']"
      ]
     },
     "execution_count": 874,
     "metadata": {},
     "output_type": "execute_result"
    }
   ],
   "source": [
    "# Check 3\n",
    "list_repository_contents('DIliushchenko','Runs-of-Homozygosity','/tree/CoverageRoh/Body/1Raw')"
   ]
  },
  {
   "cell_type": "code",
   "execution_count": 923,
   "id": "60701971",
   "metadata": {},
   "outputs": [],
   "source": [
    "def download_file(username, repository, remote_file_path, local_file_path = ''):\n",
    "    \n",
    "    '''\n",
    "    Function to download object from repository path\n",
    "    Use remote_file_path with form '/branch/path_to_file' to get correct result\n",
    "    If your input isn't a file, function rises error\n",
    "    '''\n",
    "    full_path = 'https://raw.githubusercontent.com/' + username + '/' + repository + remote_file_path\n",
    "    req = requests.get(full_path)\n",
    "    if req.status_code == 400 or req.status_code == 404:\n",
    "        raise ValueError(\"It's not a file! Or file doesn't exist\")\n",
    "    else:\n",
    "        name_of_file = remote_file_path.split('/')[-1]\n",
    "        open(os.path.join(local_file_path, name_of_file), 'wb').write(req.content)"
   ]
  },
  {
   "cell_type": "code",
   "execution_count": 922,
   "id": "233fabdc",
   "metadata": {},
   "outputs": [],
   "source": [
    "file_path = '/CoverageRoh/Body/1Raw/gencode.v25.annotation.gtf.Genes.Shet.pLI.FIS.RVIS.GHIS.KnKs.GC.BrainSpecificRanking.Branch'"
   ]
  },
  {
   "cell_type": "code",
   "execution_count": 924,
   "id": "15724b46",
   "metadata": {
    "scrolled": true
   },
   "outputs": [],
   "source": [
    "# Check 4\n",
    "download_file('DIliushchenko','Runs-of-Homozygosity', file_path)"
   ]
  },
  {
   "cell_type": "code",
   "execution_count": 917,
   "id": "6e89d7d5",
   "metadata": {},
   "outputs": [
    {
     "data": {
      "text/plain": [
       "<Response [400]>"
      ]
     },
     "execution_count": 917,
     "metadata": {},
     "output_type": "execute_result"
    }
   ],
   "source": [
    "requests.get('https://raw.githubusercontent.com/DIliushchenko')"
   ]
  }
 ],
 "metadata": {
  "kernelspec": {
   "display_name": "Python 3 (ipykernel)",
   "language": "python",
   "name": "python3"
  },
  "language_info": {
   "codemirror_mode": {
    "name": "ipython",
    "version": 3
   },
   "file_extension": ".py",
   "mimetype": "text/x-python",
   "name": "python",
   "nbconvert_exporter": "python",
   "pygments_lexer": "ipython3",
   "version": "3.10.2"
  }
 },
 "nbformat": 4,
 "nbformat_minor": 5
}
