{
 "cells": [
  {
   "cell_type": "code",
   "execution_count": 1,
   "id": "6fbb8f3b",
   "metadata": {},
   "outputs": [],
   "source": [
    "import sqlite3\n",
    "import pandas as pd"
   ]
  },
  {
   "cell_type": "markdown",
   "id": "51fb60b7",
   "metadata": {},
   "source": [
    "Прочитаем и посмотрим на наши данные, которые нам предоставили по ссылке [link](https://drive.google.com/file/d/1NWIT8Yn-GdgpBUfFO87dnIDQgmE5nj-j/view?usp=sharing) (сами данные на github положить нельзя, а данные с гугл диска поэтому в репозитории этих файлов не будет)"
   ]
  },
  {
   "cell_type": "code",
   "execution_count": 2,
   "id": "17762c66",
   "metadata": {},
   "outputs": [
    {
     "name": "stderr",
     "output_type": "stream",
     "text": [
      "/var/folders/5l/9jtg_90x5s575m1zqn_h0kgm0000gn/T/ipykernel_3604/1102169592.py:1: DtypeWarning: Columns (13) have mixed types. Specify dtype option on import or set low_memory=False.\n",
      "  df1 = pd.read_csv('genotyping_data/genstudio.csv')\n"
     ]
    }
   ],
   "source": [
    "df1 = pd.read_csv('genotyping_data/genstudio.csv')\n",
    "df2 = pd.read_csv('genotyping_data/metadata.csv')"
   ]
  },
  {
   "cell_type": "code",
   "execution_count": 3,
   "id": "18a5383e",
   "metadata": {},
   "outputs": [
    {
     "data": {
      "text/html": [
       "<div>\n",
       "<style scoped>\n",
       "    .dataframe tbody tr th:only-of-type {\n",
       "        vertical-align: middle;\n",
       "    }\n",
       "\n",
       "    .dataframe tbody tr th {\n",
       "        vertical-align: top;\n",
       "    }\n",
       "\n",
       "    .dataframe thead th {\n",
       "        text-align: right;\n",
       "    }\n",
       "</style>\n",
       "<table border=\"1\" class=\"dataframe\">\n",
       "  <thead>\n",
       "    <tr style=\"text-align: right;\">\n",
       "      <th></th>\n",
       "      <th>Unnamed: 0</th>\n",
       "      <th>SNP Name</th>\n",
       "      <th>SNP Index</th>\n",
       "      <th>SNP Aux</th>\n",
       "      <th>Sample ID</th>\n",
       "      <th>SNP</th>\n",
       "      <th>Allele1 - Top</th>\n",
       "      <th>Allele2 - Top</th>\n",
       "      <th>Allele1 - Forward</th>\n",
       "      <th>Allele2 - Forward</th>\n",
       "      <th>Allele1 - AB</th>\n",
       "      <th>Allele2 - AB</th>\n",
       "      <th>Chr</th>\n",
       "      <th>Position</th>\n",
       "      <th>GC Score</th>\n",
       "      <th>GT Score</th>\n",
       "      <th>Theta</th>\n",
       "      <th>R</th>\n",
       "      <th>B Allele Freq</th>\n",
       "      <th>Log R Ratio</th>\n",
       "    </tr>\n",
       "  </thead>\n",
       "  <tbody>\n",
       "    <tr>\n",
       "      <th>0</th>\n",
       "      <td>0</td>\n",
       "      <td>1_10573221</td>\n",
       "      <td>1</td>\n",
       "      <td>0</td>\n",
       "      <td>202341831114R01C01</td>\n",
       "      <td>[T/C]</td>\n",
       "      <td>-</td>\n",
       "      <td>-</td>\n",
       "      <td>-</td>\n",
       "      <td>-</td>\n",
       "      <td>-</td>\n",
       "      <td>-</td>\n",
       "      <td>1</td>\n",
       "      <td>10573221</td>\n",
       "      <td>0.0000</td>\n",
       "      <td>0.0000</td>\n",
       "      <td>0.942</td>\n",
       "      <td>0.413</td>\n",
       "      <td>1.0000</td>\n",
       "      <td>0.4040</td>\n",
       "    </tr>\n",
       "    <tr>\n",
       "      <th>1</th>\n",
       "      <td>1</td>\n",
       "      <td>1_10673082</td>\n",
       "      <td>2</td>\n",
       "      <td>0</td>\n",
       "      <td>202341831114R01C01</td>\n",
       "      <td>[T/C]</td>\n",
       "      <td>A</td>\n",
       "      <td>A</td>\n",
       "      <td>T</td>\n",
       "      <td>T</td>\n",
       "      <td>A</td>\n",
       "      <td>A</td>\n",
       "      <td>1</td>\n",
       "      <td>10673082</td>\n",
       "      <td>0.8272</td>\n",
       "      <td>0.8076</td>\n",
       "      <td>0.039</td>\n",
       "      <td>0.968</td>\n",
       "      <td>0.0000</td>\n",
       "      <td>0.3017</td>\n",
       "    </tr>\n",
       "    <tr>\n",
       "      <th>2</th>\n",
       "      <td>2</td>\n",
       "      <td>1_10723065</td>\n",
       "      <td>3</td>\n",
       "      <td>0</td>\n",
       "      <td>202341831114R01C01</td>\n",
       "      <td>[A/G]</td>\n",
       "      <td>A</td>\n",
       "      <td>A</td>\n",
       "      <td>T</td>\n",
       "      <td>T</td>\n",
       "      <td>A</td>\n",
       "      <td>A</td>\n",
       "      <td>1</td>\n",
       "      <td>10723065</td>\n",
       "      <td>0.8316</td>\n",
       "      <td>0.8107</td>\n",
       "      <td>0.011</td>\n",
       "      <td>1.577</td>\n",
       "      <td>0.0000</td>\n",
       "      <td>0.0388</td>\n",
       "    </tr>\n",
       "    <tr>\n",
       "      <th>3</th>\n",
       "      <td>3</td>\n",
       "      <td>1_11337555</td>\n",
       "      <td>4</td>\n",
       "      <td>0</td>\n",
       "      <td>202341831114R01C01</td>\n",
       "      <td>[A/G]</td>\n",
       "      <td>A</td>\n",
       "      <td>A</td>\n",
       "      <td>T</td>\n",
       "      <td>T</td>\n",
       "      <td>A</td>\n",
       "      <td>A</td>\n",
       "      <td>1</td>\n",
       "      <td>11337555</td>\n",
       "      <td>0.3781</td>\n",
       "      <td>0.7925</td>\n",
       "      <td>0.045</td>\n",
       "      <td>1.104</td>\n",
       "      <td>0.0000</td>\n",
       "      <td>0.2761</td>\n",
       "    </tr>\n",
       "    <tr>\n",
       "      <th>4</th>\n",
       "      <td>4</td>\n",
       "      <td>1_11407894</td>\n",
       "      <td>5</td>\n",
       "      <td>0</td>\n",
       "      <td>202341831114R01C01</td>\n",
       "      <td>[A/G]</td>\n",
       "      <td>G</td>\n",
       "      <td>G</td>\n",
       "      <td>G</td>\n",
       "      <td>G</td>\n",
       "      <td>B</td>\n",
       "      <td>B</td>\n",
       "      <td>1</td>\n",
       "      <td>11407894</td>\n",
       "      <td>0.9038</td>\n",
       "      <td>0.8670</td>\n",
       "      <td>0.983</td>\n",
       "      <td>1.122</td>\n",
       "      <td>0.9994</td>\n",
       "      <td>0.0022</td>\n",
       "    </tr>\n",
       "  </tbody>\n",
       "</table>\n",
       "</div>"
      ],
      "text/plain": [
       "   Unnamed: 0    SNP Name  SNP Index  SNP Aux           Sample ID    SNP  \\\n",
       "0           0  1_10573221          1        0  202341831114R01C01  [T/C]   \n",
       "1           1  1_10673082          2        0  202341831114R01C01  [T/C]   \n",
       "2           2  1_10723065          3        0  202341831114R01C01  [A/G]   \n",
       "3           3  1_11337555          4        0  202341831114R01C01  [A/G]   \n",
       "4           4  1_11407894          5        0  202341831114R01C01  [A/G]   \n",
       "\n",
       "  Allele1 - Top Allele2 - Top Allele1 - Forward Allele2 - Forward  \\\n",
       "0             -             -                 -                 -   \n",
       "1             A             A                 T                 T   \n",
       "2             A             A                 T                 T   \n",
       "3             A             A                 T                 T   \n",
       "4             G             G                 G                 G   \n",
       "\n",
       "  Allele1 - AB Allele2 - AB Chr  Position  GC Score  GT Score  Theta      R  \\\n",
       "0            -            -   1  10573221    0.0000    0.0000  0.942  0.413   \n",
       "1            A            A   1  10673082    0.8272    0.8076  0.039  0.968   \n",
       "2            A            A   1  10723065    0.8316    0.8107  0.011  1.577   \n",
       "3            A            A   1  11337555    0.3781    0.7925  0.045  1.104   \n",
       "4            B            B   1  11407894    0.9038    0.8670  0.983  1.122   \n",
       "\n",
       "   B Allele Freq  Log R Ratio  \n",
       "0         1.0000       0.4040  \n",
       "1         0.0000       0.3017  \n",
       "2         0.0000       0.0388  \n",
       "3         0.0000       0.2761  \n",
       "4         0.9994       0.0022  "
      ]
     },
     "execution_count": 3,
     "metadata": {},
     "output_type": "execute_result"
    }
   ],
   "source": [
    "df1.head()"
   ]
  },
  {
   "cell_type": "code",
   "execution_count": 4,
   "id": "ce507bd7",
   "metadata": {},
   "outputs": [
    {
     "data": {
      "text/html": [
       "<div>\n",
       "<style scoped>\n",
       "    .dataframe tbody tr th:only-of-type {\n",
       "        vertical-align: middle;\n",
       "    }\n",
       "\n",
       "    .dataframe tbody tr th {\n",
       "        vertical-align: top;\n",
       "    }\n",
       "\n",
       "    .dataframe thead th {\n",
       "        text-align: right;\n",
       "    }\n",
       "</style>\n",
       "<table border=\"1\" class=\"dataframe\">\n",
       "  <thead>\n",
       "    <tr style=\"text-align: right;\">\n",
       "      <th></th>\n",
       "      <th>Unnamed: 0</th>\n",
       "      <th>dna_chip_id</th>\n",
       "      <th>breed</th>\n",
       "      <th>sex</th>\n",
       "    </tr>\n",
       "  </thead>\n",
       "  <tbody>\n",
       "    <tr>\n",
       "      <th>0</th>\n",
       "      <td>0</td>\n",
       "      <td>202290551164R09C01</td>\n",
       "      <td>Д</td>\n",
       "      <td>Хр</td>\n",
       "    </tr>\n",
       "    <tr>\n",
       "      <th>1</th>\n",
       "      <td>1</td>\n",
       "      <td>202341831114R02C01</td>\n",
       "      <td>Д</td>\n",
       "      <td>Хр</td>\n",
       "    </tr>\n",
       "    <tr>\n",
       "      <th>2</th>\n",
       "      <td>2</td>\n",
       "      <td>202341831114R03C01</td>\n",
       "      <td>Д</td>\n",
       "      <td>Хр</td>\n",
       "    </tr>\n",
       "    <tr>\n",
       "      <th>3</th>\n",
       "      <td>3</td>\n",
       "      <td>202341831114R04C01</td>\n",
       "      <td>Д</td>\n",
       "      <td>Хр</td>\n",
       "    </tr>\n",
       "    <tr>\n",
       "      <th>4</th>\n",
       "      <td>4</td>\n",
       "      <td>202290551140R01C01</td>\n",
       "      <td>Д</td>\n",
       "      <td>Хр</td>\n",
       "    </tr>\n",
       "  </tbody>\n",
       "</table>\n",
       "</div>"
      ],
      "text/plain": [
       "   Unnamed: 0         dna_chip_id breed sex\n",
       "0           0  202290551164R09C01     Д  Хр\n",
       "1           1  202341831114R02C01     Д  Хр\n",
       "2           2  202341831114R03C01     Д  Хр\n",
       "3           3  202341831114R04C01     Д  Хр\n",
       "4           4  202290551140R01C01     Д  Хр"
      ]
     },
     "execution_count": 4,
     "metadata": {},
     "output_type": "execute_result"
    }
   ],
   "source": [
    "df2.head()"
   ]
  },
  {
   "cell_type": "markdown",
   "id": "f4890f35",
   "metadata": {},
   "source": [
    "Создадим  database для первого df и перенесем все данные из df в 1 таблицу в этой базе данных."
   ]
  },
  {
   "cell_type": "code",
   "execution_count": 5,
   "id": "0c7ab436",
   "metadata": {},
   "outputs": [],
   "source": [
    "conn = sqlite3.connect('genstudio.db')\n",
    "c = conn.cursor()"
   ]
  },
  {
   "cell_type": "markdown",
   "id": "297ca1d6",
   "metadata": {},
   "source": [
    "Создаем таблицу `gens`, устанавливаем параметры, индексом в данном случае выступает `Unnamed_0`"
   ]
  },
  {
   "cell_type": "code",
   "execution_count": 6,
   "id": "c84c25df",
   "metadata": {},
   "outputs": [],
   "source": [
    "c.execute('''CREATE TABLE IF NOT EXISTS gens ('Unnamed: 0' INTEGER PRIMARY KEY, \n",
    "                                               SNP_Name TEXT,\n",
    "                                               SNP_Index INTEGER\n",
    "                                               SNP_Aux INTEGER,\n",
    "                                               SampleID TEXT,\n",
    "                                               SNP TEXT,\n",
    "                                               Allele1Top TEXT,\n",
    "                                               Allele2Top TEXT,\n",
    "                                               Allele1Forward TEXT,\n",
    "                                               Allele2Forward TEXT,\n",
    "                                               Allele1AB TEXT,\n",
    "                                               Allele2AB TEXT,\n",
    "                                               Chr INTEGER,\n",
    "                                               Position INTEGER,\n",
    "                                               GC_Score INTEGER,\n",
    "                                               GT_Score INTEGER,\n",
    "                                               Theta INTEGER,\n",
    "                                               R INTEGER,\n",
    "                                               B_Allele_Freq INTEGER\n",
    "                                               Log_R_Ratio INTEGER\n",
    "                                               )''')\n",
    "conn.commit()"
   ]
  },
  {
   "cell_type": "markdown",
   "id": "3ea34362",
   "metadata": {},
   "source": [
    "Переводим наши данные в формат sql и сразу в нашу таблицу"
   ]
  },
  {
   "cell_type": "code",
   "execution_count": 7,
   "id": "539cb8f2",
   "metadata": {
    "scrolled": true
   },
   "outputs": [
    {
     "data": {
      "text/plain": [
       "2000000"
      ]
     },
     "execution_count": 7,
     "metadata": {},
     "output_type": "execute_result"
    }
   ],
   "source": [
    "df1.to_sql('gens', conn, if_exists='replace', index = False)"
   ]
  },
  {
   "cell_type": "markdown",
   "id": "0474ebbf",
   "metadata": {},
   "source": [
    "Переименуем **Unnamed: 0** так как не совсем понятно изначально, что она несет"
   ]
  },
  {
   "cell_type": "code",
   "execution_count": 8,
   "id": "1348e499",
   "metadata": {},
   "outputs": [],
   "source": [
    "c.execute('''  \n",
    "SELECT * FROM gens''')\n",
    "c.execute(\"ALTER TABLE gens RENAME COLUMN 'Unnamed: 0' TO id_var\")\n",
    "conn.commit()"
   ]
  },
  {
   "cell_type": "markdown",
   "id": "bb43ae87",
   "metadata": {},
   "source": [
    "Повторяем все тоже самое со второй таблицей"
   ]
  },
  {
   "cell_type": "code",
   "execution_count": 13,
   "id": "5baf4ea8",
   "metadata": {},
   "outputs": [],
   "source": [
    "c.execute('''CREATE TABLE IF NOT EXISTS meta ('Unnamed: 0' INTEGER PRIMARY KEY,\n",
    "                                               dna_chip_id TEXT\n",
    "                                               breed TEXT\n",
    "                                               sex TEXT\n",
    "                                               )''')\n",
    "conn.commit()"
   ]
  },
  {
   "cell_type": "code",
   "execution_count": 14,
   "id": "c2070a58",
   "metadata": {
    "scrolled": true
   },
   "outputs": [
    {
     "data": {
      "text/plain": [
       "841"
      ]
     },
     "execution_count": 14,
     "metadata": {},
     "output_type": "execute_result"
    }
   ],
   "source": [
    "df2.to_sql('meta', conn, if_exists='replace', index = False)"
   ]
  },
  {
   "cell_type": "markdown",
   "id": "6341ef0c",
   "metadata": {},
   "source": [
    "Мы дропаем Unnamed: 0 из нашего db, так как в данном случае он также выступает в качестве индекса. Также изменим название `dna_chip_id` на `Sample ID`, чтобы проще можно было соединять таблицы друг с другом. (Тут я немного не понял как таблицу добавить сразу в db поэтому пришлось использовать пандас)"
   ]
  },
  {
   "cell_type": "code",
   "execution_count": 15,
   "id": "cfaf3621",
   "metadata": {},
   "outputs": [],
   "source": [
    "c.execute('''  \n",
    "SELECT * FROM meta''')\n",
    "c.execute(\"ALTER TABLE meta RENAME COLUMN dna_chip_id TO 'Sample ID'\")\n",
    "c.execute(\"ALTER TABLE meta DROP COLUMN 'Unnamed: 0'\")\n",
    "conn.commit()\n"
   ]
  },
  {
   "cell_type": "markdown",
   "id": "7e0c881b",
   "metadata": {},
   "source": [
    "Соединяем оба наши таблицы по колонкам Sample_ID записав результат в переменную res"
   ]
  },
  {
   "cell_type": "code",
   "execution_count": 16,
   "id": "d0c7a344",
   "metadata": {},
   "outputs": [],
   "source": [
    "res = conn.execute(''' SELECT *\n",
    "              FROM gens\n",
    "              JOIN meta\n",
    "              USING ('Sample ID')\n",
    "            ''')"
   ]
  },
  {
   "cell_type": "code",
   "execution_count": 17,
   "id": "25b8f66d",
   "metadata": {},
   "outputs": [],
   "source": [
    "last = pd.DataFrame(res.fetchall())"
   ]
  },
  {
   "cell_type": "code",
   "execution_count": 21,
   "id": "d79e0fb1",
   "metadata": {},
   "outputs": [
    {
     "data": {
      "text/html": [
       "<div>\n",
       "<style scoped>\n",
       "    .dataframe tbody tr th:only-of-type {\n",
       "        vertical-align: middle;\n",
       "    }\n",
       "\n",
       "    .dataframe tbody tr th {\n",
       "        vertical-align: top;\n",
       "    }\n",
       "\n",
       "    .dataframe thead th {\n",
       "        text-align: right;\n",
       "    }\n",
       "</style>\n",
       "<table border=\"1\" class=\"dataframe\">\n",
       "  <thead>\n",
       "    <tr style=\"text-align: right;\">\n",
       "      <th></th>\n",
       "      <th>0</th>\n",
       "      <th>1</th>\n",
       "      <th>2</th>\n",
       "      <th>3</th>\n",
       "      <th>4</th>\n",
       "      <th>5</th>\n",
       "      <th>6</th>\n",
       "      <th>7</th>\n",
       "      <th>8</th>\n",
       "      <th>9</th>\n",
       "      <th>...</th>\n",
       "      <th>12</th>\n",
       "      <th>13</th>\n",
       "      <th>14</th>\n",
       "      <th>15</th>\n",
       "      <th>16</th>\n",
       "      <th>17</th>\n",
       "      <th>18</th>\n",
       "      <th>19</th>\n",
       "      <th>20</th>\n",
       "      <th>21</th>\n",
       "    </tr>\n",
       "  </thead>\n",
       "  <tbody>\n",
       "    <tr>\n",
       "      <th>0</th>\n",
       "      <td>0</td>\n",
       "      <td>1_10573221</td>\n",
       "      <td>1</td>\n",
       "      <td>0</td>\n",
       "      <td>202341831114R01C01</td>\n",
       "      <td>[T/C]</td>\n",
       "      <td>-</td>\n",
       "      <td>-</td>\n",
       "      <td>-</td>\n",
       "      <td>-</td>\n",
       "      <td>...</td>\n",
       "      <td>1</td>\n",
       "      <td>10573221</td>\n",
       "      <td>0.0000</td>\n",
       "      <td>0.0000</td>\n",
       "      <td>0.942</td>\n",
       "      <td>0.413</td>\n",
       "      <td>1.0000</td>\n",
       "      <td>0.4040</td>\n",
       "      <td>Д</td>\n",
       "      <td>Хр</td>\n",
       "    </tr>\n",
       "    <tr>\n",
       "      <th>1</th>\n",
       "      <td>1</td>\n",
       "      <td>1_10673082</td>\n",
       "      <td>2</td>\n",
       "      <td>0</td>\n",
       "      <td>202341831114R01C01</td>\n",
       "      <td>[T/C]</td>\n",
       "      <td>A</td>\n",
       "      <td>A</td>\n",
       "      <td>T</td>\n",
       "      <td>T</td>\n",
       "      <td>...</td>\n",
       "      <td>1</td>\n",
       "      <td>10673082</td>\n",
       "      <td>0.8272</td>\n",
       "      <td>0.8076</td>\n",
       "      <td>0.039</td>\n",
       "      <td>0.968</td>\n",
       "      <td>0.0000</td>\n",
       "      <td>0.3017</td>\n",
       "      <td>Д</td>\n",
       "      <td>Хр</td>\n",
       "    </tr>\n",
       "    <tr>\n",
       "      <th>2</th>\n",
       "      <td>2</td>\n",
       "      <td>1_10723065</td>\n",
       "      <td>3</td>\n",
       "      <td>0</td>\n",
       "      <td>202341831114R01C01</td>\n",
       "      <td>[A/G]</td>\n",
       "      <td>A</td>\n",
       "      <td>A</td>\n",
       "      <td>T</td>\n",
       "      <td>T</td>\n",
       "      <td>...</td>\n",
       "      <td>1</td>\n",
       "      <td>10723065</td>\n",
       "      <td>0.8316</td>\n",
       "      <td>0.8107</td>\n",
       "      <td>0.011</td>\n",
       "      <td>1.577</td>\n",
       "      <td>0.0000</td>\n",
       "      <td>0.0388</td>\n",
       "      <td>Д</td>\n",
       "      <td>Хр</td>\n",
       "    </tr>\n",
       "    <tr>\n",
       "      <th>3</th>\n",
       "      <td>3</td>\n",
       "      <td>1_11337555</td>\n",
       "      <td>4</td>\n",
       "      <td>0</td>\n",
       "      <td>202341831114R01C01</td>\n",
       "      <td>[A/G]</td>\n",
       "      <td>A</td>\n",
       "      <td>A</td>\n",
       "      <td>T</td>\n",
       "      <td>T</td>\n",
       "      <td>...</td>\n",
       "      <td>1</td>\n",
       "      <td>11337555</td>\n",
       "      <td>0.3781</td>\n",
       "      <td>0.7925</td>\n",
       "      <td>0.045</td>\n",
       "      <td>1.104</td>\n",
       "      <td>0.0000</td>\n",
       "      <td>0.2761</td>\n",
       "      <td>Д</td>\n",
       "      <td>Хр</td>\n",
       "    </tr>\n",
       "    <tr>\n",
       "      <th>4</th>\n",
       "      <td>4</td>\n",
       "      <td>1_11407894</td>\n",
       "      <td>5</td>\n",
       "      <td>0</td>\n",
       "      <td>202341831114R01C01</td>\n",
       "      <td>[A/G]</td>\n",
       "      <td>G</td>\n",
       "      <td>G</td>\n",
       "      <td>G</td>\n",
       "      <td>G</td>\n",
       "      <td>...</td>\n",
       "      <td>1</td>\n",
       "      <td>11407894</td>\n",
       "      <td>0.9038</td>\n",
       "      <td>0.8670</td>\n",
       "      <td>0.983</td>\n",
       "      <td>1.122</td>\n",
       "      <td>0.9994</td>\n",
       "      <td>0.0022</td>\n",
       "      <td>Д</td>\n",
       "      <td>Хр</td>\n",
       "    </tr>\n",
       "  </tbody>\n",
       "</table>\n",
       "<p>5 rows × 22 columns</p>\n",
       "</div>"
      ],
      "text/plain": [
       "   0           1   2   3                   4      5  6  7  8  9   ... 12  \\\n",
       "0   0  1_10573221   1   0  202341831114R01C01  [T/C]  -  -  -  -  ...  1   \n",
       "1   1  1_10673082   2   0  202341831114R01C01  [T/C]  A  A  T  T  ...  1   \n",
       "2   2  1_10723065   3   0  202341831114R01C01  [A/G]  A  A  T  T  ...  1   \n",
       "3   3  1_11337555   4   0  202341831114R01C01  [A/G]  A  A  T  T  ...  1   \n",
       "4   4  1_11407894   5   0  202341831114R01C01  [A/G]  G  G  G  G  ...  1   \n",
       "\n",
       "         13      14      15     16     17      18      19  20  21  \n",
       "0  10573221  0.0000  0.0000  0.942  0.413  1.0000  0.4040   Д  Хр  \n",
       "1  10673082  0.8272  0.8076  0.039  0.968  0.0000  0.3017   Д  Хр  \n",
       "2  10723065  0.8316  0.8107  0.011  1.577  0.0000  0.0388   Д  Хр  \n",
       "3  11337555  0.3781  0.7925  0.045  1.104  0.0000  0.2761   Д  Хр  \n",
       "4  11407894  0.9038  0.8670  0.983  1.122  0.9994  0.0022   Д  Хр  \n",
       "\n",
       "[5 rows x 22 columns]"
      ]
     },
     "execution_count": 21,
     "metadata": {},
     "output_type": "execute_result"
    }
   ],
   "source": [
    "last.head()"
   ]
  },
  {
   "cell_type": "code",
   "execution_count": 23,
   "id": "6854df7a",
   "metadata": {},
   "outputs": [],
   "source": [
    "c.execute('''CREATE TABLE IF NOT EXISTS genes_with_meta (ind INTEGER PRIMARY KEY, \n",
    "                                               SNP_Name TEXT,\n",
    "                                               SNP_Index INTEGER\n",
    "                                               SNP_Aux INTEGER,\n",
    "                                               SampleID TEXT,\n",
    "                                               SNP TEXT,\n",
    "                                               Allele1Top TEXT,\n",
    "                                               Allele2Top TEXT,\n",
    "                                               Allele1Forward TEXT,\n",
    "                                               Allele2Forward TEXT,\n",
    "                                               Allele1AB TEXT,\n",
    "                                               Allele2AB TEXT,\n",
    "                                               Chr INTEGER,\n",
    "                                               Position INTEGER,\n",
    "                                               GC_Score INTEGER,\n",
    "                                               GT_Score INTEGER,\n",
    "                                               Theta INTEGER,\n",
    "                                               R INTEGER,\n",
    "                                               B_Allele_Freq INTEGER\n",
    "                                               Log_R_Ratio INTEGER\n",
    "                                               breed TEXT\n",
    "                                               sex TEXT\n",
    "                                               )''')\n",
    "conn.commit()"
   ]
  },
  {
   "cell_type": "code",
   "execution_count": 24,
   "id": "47314efa",
   "metadata": {},
   "outputs": [
    {
     "data": {
      "text/plain": [
       "2000000"
      ]
     },
     "execution_count": 24,
     "metadata": {},
     "output_type": "execute_result"
    }
   ],
   "source": [
    "last.to_sql('genes_with_meta', conn, if_exists='replace', index = False)"
   ]
  },
  {
   "cell_type": "code",
   "execution_count": 27,
   "id": "96097bcc",
   "metadata": {},
   "outputs": [
    {
     "ename": "ProgrammingError",
     "evalue": "Cannot operate on a closed database.",
     "output_type": "error",
     "traceback": [
      "\u001b[0;31m---------------------------------------------------------------------------\u001b[0m",
      "\u001b[0;31mProgrammingError\u001b[0m                          Traceback (most recent call last)",
      "Input \u001b[0;32mIn [27]\u001b[0m, in \u001b[0;36m<cell line: 1>\u001b[0;34m()\u001b[0m\n\u001b[0;32m----> 1\u001b[0m \u001b[43mconn\u001b[49m\u001b[38;5;241;43m.\u001b[39;49m\u001b[43mcommit\u001b[49m\u001b[43m(\u001b[49m\u001b[43m)\u001b[49m\n",
      "\u001b[0;31mProgrammingError\u001b[0m: Cannot operate on a closed database."
     ]
    }
   ],
   "source": [
    "conn.commit()"
   ]
  },
  {
   "cell_type": "code",
   "execution_count": 26,
   "id": "9964ca57",
   "metadata": {},
   "outputs": [],
   "source": [
    "conn.close()"
   ]
  }
 ],
 "metadata": {
  "kernelspec": {
   "display_name": "Python 3 (ipykernel)",
   "language": "python",
   "name": "python3"
  },
  "language_info": {
   "codemirror_mode": {
    "name": "ipython",
    "version": 3
   },
   "file_extension": ".py",
   "mimetype": "text/x-python",
   "name": "python",
   "nbconvert_exporter": "python",
   "pygments_lexer": "ipython3",
   "version": "3.10.2"
  }
 },
 "nbformat": 4,
 "nbformat_minor": 5
}
